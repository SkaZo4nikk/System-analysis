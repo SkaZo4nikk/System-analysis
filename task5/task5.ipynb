{
 "cells": [
  {
   "cell_type": "code",
   "execution_count": 1,
   "id": "882ddd34",
   "metadata": {},
   "outputs": [],
   "source": [
    "from io import StringIO\n",
    "import numpy as np\n",
    "import json\n",
    "SEQ_LEN = 10"
   ]
  },
  {
   "cell_type": "code",
   "execution_count": 6,
   "id": "200e7b7c",
   "metadata": {},
   "outputs": [],
   "source": [
    "def createRow(visited: set, cur: int) -> np.array:\n",
    "    row = []\n",
    "    for i in range(SEQ_LEN):\n",
    "        row.append(1 if i+1 in visited else 0)\n",
    "    return np.array(row)\n",
    "\n",
    "def createMatrix(data: list) -> np.array:\n",
    "    visited = set()\n",
    "    matrix = list()\n",
    "\n",
    "    for element in data:\n",
    "        if type(element) == str:\n",
    "            visited.add(int(element))\n",
    "            row = createRow(visited=visited, cur=int(element))\n",
    "            matrix.append({'num': int(element), 'row': row})\n",
    "        else:\n",
    "            for subelement in element:\n",
    "                visited.add(int(subelement))\n",
    "            for subelement in element:\n",
    "                row = createRow(visited=visited, cur=int(subelement))\n",
    "                matrix.append({'num': int(subelement), 'row': row})\n",
    "\n",
    "    matrix.sort(key=(lambda x: x['num']))\n",
    "    raw = [element['row'] for element in matrix]\n",
    "\n",
    "    return np.array(raw)\n",
    "\n",
    "def findErr(json_path: str) -> list:\n",
    "    data = json.loads(open(json_path).read())\n",
    "\n",
    "    matrix1 = createMatrix(data['input1'])\n",
    "    matrix2 = createMatrix(data['input2'])\n",
    "\n",
    "    matrix12 = matrix1 * matrix2\n",
    "    matrix12T = matrix1.T * matrix2.T\n",
    "\n",
    "    criterion = np.logical_or(matrix12, matrix12T)\n",
    "\n",
    "    answer = []\n",
    "    for i in range(criterion.shape[0]):\n",
    "        for j in range(i):\n",
    "            if not criterion[i][j]:\n",
    "                answer.append([j+1, i+1])\n",
    "    \n",
    "    flag = True\n",
    "    for row in data['output']:\n",
    "        flag *= ([int(row[0]), int(row[1])] in answer )\n",
    "        if not flag:\n",
    "            print(f\"Возникала ошибка {row}\")\n",
    "    if flag:\n",
    "        print(f\"Succ\")\n",
    "\n",
    "    return answer"
   ]
  },
  {
   "cell_type": "code",
   "execution_count": 7,
   "id": "3a314993",
   "metadata": {},
   "outputs": [
    {
     "name": "stdout",
     "output_type": "stream",
     "text": [
      "Succ\n"
     ]
    },
    {
     "data": {
      "text/plain": [
       "[[8, 9]]"
      ]
     },
     "execution_count": 7,
     "metadata": {},
     "output_type": "execute_result"
    }
   ],
   "source": [
    "findErr(\"example.json\")"
   ]
  },
  {
   "cell_type": "code",
   "execution_count": null,
   "id": "13519276",
   "metadata": {},
   "outputs": [],
   "source": []
  }
 ],
 "metadata": {
  "kernelspec": {
   "display_name": "Python 3 (ipykernel)",
   "language": "python",
   "name": "python3"
  },
  "language_info": {
   "codemirror_mode": {
    "name": "ipython",
    "version": 3
   },
   "file_extension": ".py",
   "mimetype": "text/x-python",
   "name": "python",
   "nbconvert_exporter": "python",
   "pygments_lexer": "ipython3",
   "version": "3.10.7"
  }
 },
 "nbformat": 4,
 "nbformat_minor": 5
}
